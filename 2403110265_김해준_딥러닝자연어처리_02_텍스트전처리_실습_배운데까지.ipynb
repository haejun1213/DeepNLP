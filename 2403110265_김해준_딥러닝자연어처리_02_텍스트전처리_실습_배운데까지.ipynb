{
 "cells": [
  {
   "cell_type": "markdown",
   "id": "66d65176",
   "metadata": {},
   "source": [
    "# 텍스트 전처리, Text Preprocessing\n",
    "---\n",
    "1. **자연어처리 라이브러리 설치** : NLTK, KoNLPy\n",
    "1. **토근화 (Tokenization)** : 데이터를 의미있는 기본 단위로 분리하는 작업\n",
    "1. **품사 태깅 (POS Tagging)** : 토큰에 품사를 태깅하는 작업\n",
    "1. **정제 (Cleaning)** : 불필요한 기호나 문자를 제거하는 작업\n",
    "1. **정규화 (Normalization)** : 형태가 다른 단어를 하나의 형태로 통합하는 작업. 대/소문자 통합, 유사의미 단어통합"
   ]
  },
  {
   "cell_type": "markdown",
   "id": "ba18259d",
   "metadata": {},
   "source": [
    "## 1. 자연어 처리 라이브러리 설치 (NLTK, KoNLPy)"
   ]
  },
  {
   "cell_type": "code",
   "execution_count": 1,
   "id": "fb02f851",
   "metadata": {},
   "outputs": [
    {
     "data": {
      "text/plain": [
       "'3.9.1'"
      ]
     },
     "execution_count": 1,
     "metadata": {},
     "output_type": "execute_result"
    }
   ],
   "source": [
    "import nltk\n",
    "nltk.__version__"
   ]
  },
  {
   "cell_type": "code",
   "execution_count": 2,
   "id": "0b424504",
   "metadata": {},
   "outputs": [
    {
     "name": "stderr",
     "output_type": "stream",
     "text": [
      "[nltk_data] Downloading package punkt to\n",
      "[nltk_data]     C:\\Users\\User\\AppData\\Roaming\\nltk_data...\n",
      "[nltk_data]   Unzipping tokenizers\\punkt.zip.\n",
      "[nltk_data] Downloading package punkt_tab to\n",
      "[nltk_data]     C:\\Users\\User\\AppData\\Roaming\\nltk_data...\n",
      "[nltk_data]   Unzipping tokenizers\\punkt_tab.zip.\n",
      "[nltk_data] Downloading package webtext to\n",
      "[nltk_data]     C:\\Users\\User\\AppData\\Roaming\\nltk_data...\n",
      "[nltk_data]   Unzipping corpora\\webtext.zip.\n",
      "[nltk_data] Downloading package wordnet to\n",
      "[nltk_data]     C:\\Users\\User\\AppData\\Roaming\\nltk_data...\n",
      "[nltk_data] Downloading package stopwords to\n",
      "[nltk_data]     C:\\Users\\User\\AppData\\Roaming\\nltk_data...\n",
      "[nltk_data]   Unzipping corpora\\stopwords.zip.\n",
      "[nltk_data] Downloading package averaged_perceptron_tagger to\n",
      "[nltk_data]     C:\\Users\\User\\AppData\\Roaming\\nltk_data...\n",
      "[nltk_data]   Unzipping taggers\\averaged_perceptron_tagger.zip.\n"
     ]
    },
    {
     "data": {
      "text/plain": [
       "True"
      ]
     },
     "execution_count": 2,
     "metadata": {},
     "output_type": "execute_result"
    }
   ],
   "source": [
    "# NLTK data 설치\n",
    "nltk.download('punkt')\n",
    "nltk.download('punkt_tab')\n",
    "nltk.download('webtext')\n",
    "nltk.download('wordnet')\n",
    "nltk.download('stopwords')\n",
    "nltk.download('averaged_perceptron_tagger')"
   ]
  },
  {
   "cell_type": "code",
   "execution_count": 3,
   "id": "c6939682",
   "metadata": {},
   "outputs": [
    {
     "data": {
      "text/plain": [
       "'0.6.0'"
      ]
     },
     "execution_count": 3,
     "metadata": {},
     "output_type": "execute_result"
    }
   ],
   "source": [
    "import konlpy\n",
    "konlpy.__version__"
   ]
  },
  {
   "cell_type": "markdown",
   "id": "55f01255",
   "metadata": {},
   "source": [
    "## 2. 토근화 (Tokenization)"
   ]
  },
  {
   "cell_type": "markdown",
   "id": "8683b04b",
   "metadata": {},
   "source": [
    "### 2-1. NLTK를 활용한 토큰화 : nltk.tokenize"
   ]
  },
  {
   "cell_type": "code",
   "execution_count": 32,
   "id": "d68de1cb",
   "metadata": {},
   "outputs": [],
   "source": [
    "text = \"Hello, everyone. It's good to see you. Let's start out NLP class!\""
   ]
  },
  {
   "cell_type": "code",
   "execution_count": 34,
   "id": "998ece79",
   "metadata": {
    "scrolled": true
   },
   "outputs": [
    {
     "name": "stdout",
     "output_type": "stream",
     "text": [
      "문장 토큰화 :  ['Hello, everyone.', \"It's good to see you.\", \"Let's start out NLP class!\"]\n",
      "단어 토큰화 :  ['Hello', ',', 'everyone', '.', 'It', \"'s\", 'good', 'to', 'see', 'you', '.', 'Let', \"'s\", 'start', 'out', 'NLP', 'class', '!']\n"
     ]
    }
   ],
   "source": [
    "# word_tokenize, sent_tokenize\n",
    "from nltk.tokenize import word_tokenize, sent_tokenize\n",
    "\n",
    "# 문장 토큰\n",
    "print(\"문장 토큰화 : \", sent_tokenize(text))\n",
    "\n",
    "# 단어 토큰화\n",
    "print(\"단어 토큰화 : \", word_tokenize(text))"
   ]
  },
  {
   "cell_type": "code",
   "execution_count": 36,
   "id": "ace1c648",
   "metadata": {},
   "outputs": [
    {
     "name": "stdout",
     "output_type": "stream",
     "text": [
      "['Hello', ',', 'everyone', '.', 'It', \"'\", 's', 'good', 'to', 'see', 'you', '.', 'Let', \"'\", 's', 'start', 'out', 'NLP', 'class', '!']\n",
      "['Hello', ',', 'everyone.', 'It', \"'s\", 'good', 'to', 'see', 'you.', 'Let', \"'s\", 'start', 'out', 'NLP', 'class', '!']\n"
     ]
    }
   ],
   "source": [
    "# WordPunctTokenizer, TreebankWordTokenizer\n",
    "from nltk.tokenize import WordPunctTokenizer, TreebankWordTokenizer\n",
    "\n",
    "wpTokenizer = WordPunctTokenizer()\n",
    "print(wpTokenizer.tokenize(text))\n",
    "\n",
    "tbTokenizer = TreebankWordTokenizer()\n",
    "print(tbTokenizer.tokenize(text))\n"
   ]
  },
  {
   "cell_type": "markdown",
   "id": "9bb19a26",
   "metadata": {},
   "source": [
    "### 2-2. 한국어 토큰화 : konlpy.tag"
   ]
  },
  {
   "cell_type": "code",
   "execution_count": 5,
   "id": "4608f973",
   "metadata": {},
   "outputs": [],
   "source": [
    "kor_text = \"안녕하세요, 여러분. 만나서 반갑습니다. 지금부터 자연어처리 수업을 시작하겠습니다.\""
   ]
  },
  {
   "cell_type": "code",
   "execution_count": 6,
   "id": "1c4627ff",
   "metadata": {},
   "outputs": [
    {
     "name": "stdout",
     "output_type": "stream",
     "text": [
      "['안녕하세요, 여러분.', '만나서 반갑습니다.', '지금부터 자연어처리 수업을 시작하겠습니다.']\n",
      "['안녕하세요', ',', '여러분', '.', '만나서', '반갑습니다', '.', '지금부터', '자연어처리', '수업을', '시작하겠습니다', '.']\n"
     ]
    }
   ],
   "source": [
    "# nltk로 토큰화\n",
    "from nltk.tokenize import word_tokenize, sent_tokenize\n",
    "\n",
    "# 문장 분리\n",
    "print(sent_tokenize(kor_text))\n",
    "\n",
    "# 단어 토큰화\n",
    "print(word_tokenize(kor_text))"
   ]
  },
  {
   "cell_type": "code",
   "execution_count": 8,
   "id": "69eab0fd",
   "metadata": {},
   "outputs": [
    {
     "data": {
      "text/plain": [
       "['안녕하세요',\n",
       " ',',\n",
       " '여러분',\n",
       " '.',\n",
       " '만나서',\n",
       " '반갑습니다',\n",
       " '.',\n",
       " '지금',\n",
       " '부터',\n",
       " '자연어',\n",
       " '처리',\n",
       " '수업',\n",
       " '을',\n",
       " '시작',\n",
       " '하겠습니다',\n",
       " '.']"
      ]
     },
     "execution_count": 8,
     "metadata": {},
     "output_type": "execute_result"
    }
   ],
   "source": [
    "# Okt로 토큰화\n",
    "from konlpy.tag import Okt\n",
    "okt = Okt()\n",
    "okt.morphs(kor_text)"
   ]
  },
  {
   "cell_type": "code",
   "execution_count": 9,
   "id": "8fc6351e",
   "metadata": {
    "scrolled": true
   },
   "outputs": [
    {
     "data": {
      "text/plain": [
       "['안녕하세요',\n",
       " ',',\n",
       " '여러분',\n",
       " '.',\n",
       " '만나',\n",
       " '아서',\n",
       " '반갑습니다',\n",
       " '.',\n",
       " '지금',\n",
       " '부터',\n",
       " '자연어',\n",
       " '처리',\n",
       " '수업',\n",
       " '을',\n",
       " '시작',\n",
       " '하',\n",
       " '겠',\n",
       " '습니다',\n",
       " '.']"
      ]
     },
     "execution_count": 9,
     "metadata": {},
     "output_type": "execute_result"
    }
   ],
   "source": [
    "# Komoran으로 토큰화\n",
    "from konlpy.tag import Komoran\n",
    "komo = Komoran()\n",
    "komo.morphs(kor_text)"
   ]
  },
  {
   "cell_type": "markdown",
   "id": "6c3134c8",
   "metadata": {},
   "source": [
    "## 3. 품사 태깅 (POS Tagging)"
   ]
  },
  {
   "cell_type": "markdown",
   "id": "9102fe09",
   "metadata": {},
   "source": [
    "### 3-1. NLTK 활용 품사 태깅 : nltk.pos_tag(token_list)"
   ]
  },
  {
   "cell_type": "code",
   "execution_count": 40,
   "id": "aa01ebbe",
   "metadata": {},
   "outputs": [
    {
     "name": "stderr",
     "output_type": "stream",
     "text": [
      "[nltk_data] Downloading package averaged_perceptron_tagger_eng to\n",
      "[nltk_data]     C:\\Users\\User\\AppData\\Roaming\\nltk_data...\n",
      "[nltk_data]   Unzipping taggers\\averaged_perceptron_tagger_eng.zip.\n"
     ]
    },
    {
     "data": {
      "text/plain": [
       "[('Hello', 'NNP'),\n",
       " ('everyone', 'NN'),\n",
       " ('.', '.'),\n",
       " ('It', 'PRP'),\n",
       " (\"'s\", 'VBZ'),\n",
       " ('good', 'JJ'),\n",
       " ('to', 'TO'),\n",
       " ('see', 'VB'),\n",
       " ('you', 'PRP'),\n",
       " ('.', '.'),\n",
       " ('Let', 'VB'),\n",
       " (\"'s\", 'POS'),\n",
       " ('start', 'VB'),\n",
       " ('our', 'PRP$'),\n",
       " ('text', 'NN'),\n",
       " ('mining', 'NN'),\n",
       " ('class', 'NN'),\n",
       " ('!', '.')]"
      ]
     },
     "execution_count": 40,
     "metadata": {},
     "output_type": "execute_result"
    }
   ],
   "source": [
    "import nltk\n",
    "nltk.download('averaged_perceptron_tagger_eng')\n",
    "from nltk.tokenize import word_tokenize\n",
    "sent = \"Hello everyone. It's good to see you. Let's start our text mining class!\"\n",
    "\n",
    "# 토큰화\n",
    "token_list = word_tokenize(sent)\n",
    "\n",
    "# 품사태깅\n",
    "nltk.pos_tag(token_list)"
   ]
  },
  {
   "cell_type": "markdown",
   "id": "b5904ca8",
   "metadata": {},
   "source": [
    "* 품사명 알아보기 : nltk.help.upenn_tagset(품사명)\n",
    "    - nltk.download('tagsets')"
   ]
  },
  {
   "cell_type": "code",
   "execution_count": 41,
   "id": "e2713e36",
   "metadata": {},
   "outputs": [
    {
     "name": "stderr",
     "output_type": "stream",
     "text": [
      "[nltk_data] Downloading package tagsets to\n",
      "[nltk_data]     C:\\Users\\User\\AppData\\Roaming\\nltk_data...\n",
      "[nltk_data]   Unzipping help\\tagsets.zip.\n",
      "[nltk_data] Downloading package tagsets_json to\n",
      "[nltk_data]     C:\\Users\\User\\AppData\\Roaming\\nltk_data...\n",
      "[nltk_data]   Unzipping help\\tagsets_json.zip.\n"
     ]
    },
    {
     "data": {
      "text/plain": [
       "True"
      ]
     },
     "execution_count": 41,
     "metadata": {},
     "output_type": "execute_result"
    }
   ],
   "source": [
    "nltk.download('tagsets')\n",
    "nltk.download('tagsets_json')"
   ]
  },
  {
   "cell_type": "code",
   "execution_count": 42,
   "id": "1bb94043",
   "metadata": {},
   "outputs": [
    {
     "name": "stdout",
     "output_type": "stream",
     "text": [
      "NN: noun, common, singular or mass\n",
      "    common-carrier cabbage knuckle-duster Casino afghan shed thermostat\n",
      "    investment slide humour falloff slick wind hyena override subhumanity\n",
      "    machinist ...\n"
     ]
    }
   ],
   "source": [
    "# 품사명 확인\n",
    "nltk.help.upenn_tagset('NN')"
   ]
  },
  {
   "cell_type": "markdown",
   "id": "3fe88966",
   "metadata": {},
   "source": [
    "### 3-2. 한글 형태소 분석과 품사 태깅 (konlpy.tag)"
   ]
  },
  {
   "cell_type": "code",
   "execution_count": 10,
   "id": "e92f1d2a",
   "metadata": {},
   "outputs": [],
   "source": [
    "kor_text = '''절망의 반대가 희망은 아니다.\n",
    "어두운 밤하늘에 별이 빛나듯\n",
    "희망은 절망 속에 싹트는 거지\n",
    "만약에 우리가 희망함이 적다면\n",
    "그 누가 세상을 비추어줄까.\n",
    "정희성, 희망 공부'''"
   ]
  },
  {
   "cell_type": "code",
   "execution_count": 43,
   "id": "7730d1fc",
   "metadata": {
    "scrolled": true
   },
   "outputs": [
    {
     "name": "stdout",
     "output_type": "stream",
     "text": [
      "['절망의', '반대가', '희망은', '아니다', '.', '어두운', '밤하늘에', '별이', '빛나듯', '희망은', '절망', '속에', '싹트는', '거지', '만약에', '우리가', '희망함이', '적다면', '그', '누가', '세상을', '비추어줄까', '.', '정희성', ',', '희망', '공부']\n",
      "[('절망의', 'JJ'), ('반대가', 'NNP'), ('희망은', 'NNP'), ('아니다', 'NNP'), ('.', '.'), ('어두운', 'VB'), ('밤하늘에', 'JJ'), ('별이', 'NNP'), ('빛나듯', 'NNP'), ('희망은', 'NNP'), ('절망', 'NNP'), ('속에', 'NNP'), ('싹트는', 'NNP'), ('거지', 'NNP'), ('만약에', 'NNP'), ('우리가', 'NNP'), ('희망함이', 'NNP'), ('적다면', 'NNP'), ('그', 'NNP'), ('누가', 'NNP'), ('세상을', 'NNP'), ('비추어줄까', 'NNP'), ('.', '.'), ('정희성', 'NN'), (',', ','), ('희망', 'NNP'), ('공부', 'NNP')]\n"
     ]
    }
   ],
   "source": [
    "# nltk로 한글 품사 태깅\n",
    "tokens = word_tokenize(kor_text)\n",
    "print(tokens)\n",
    "print(nltk.pos_tag(tokens))"
   ]
  },
  {
   "cell_type": "code",
   "execution_count": 13,
   "id": "15aacb34",
   "metadata": {},
   "outputs": [
    {
     "name": "stdout",
     "output_type": "stream",
     "text": [
      "형태소 분석 :  ['절망', '의', '반대', '가', '희망', '은', '아니다', '.', '\\n', '어', '두운', '밤하늘', '에', '별', '이', '빛나듯', '\\n', '희망', '은', '절망', '속', '에', '싹트는', '거지', '\\n', '만약', '에', '우리', '가', '희망', '함', '이', '적다면', '\\n', '그', '누가', '세상', '을', '비추어줄까', '.', '\\n', '정희성', ',', '희망', '공부']\n",
      "\n",
      "품사 태깅 :  [('절망', 'Noun'), ('의', 'Josa'), ('반대', 'Noun'), ('가', 'Josa'), ('희망', 'Noun'), ('은', 'Josa'), ('아니다', 'Adjective'), ('.', 'Punctuation'), ('\\n', 'Foreign'), ('어', 'Noun'), ('두운', 'Noun'), ('밤하늘', 'Noun'), ('에', 'Josa'), ('별', 'Noun'), ('이', 'Josa'), ('빛나듯', 'Verb'), ('\\n', 'Foreign'), ('희망', 'Noun'), ('은', 'Josa'), ('절망', 'Noun'), ('속', 'Noun'), ('에', 'Josa'), ('싹트는', 'Verb'), ('거지', 'Noun'), ('\\n', 'Foreign'), ('만약', 'Noun'), ('에', 'Josa'), ('우리', 'Noun'), ('가', 'Josa'), ('희망', 'Noun'), ('함', 'Noun'), ('이', 'Josa'), ('적다면', 'Verb'), ('\\n', 'Foreign'), ('그', 'Noun'), ('누가', 'Noun'), ('세상', 'Noun'), ('을', 'Josa'), ('비추어줄까', 'Verb'), ('.', 'Punctuation'), ('\\n', 'Foreign'), ('정희성', 'Noun'), (',', 'Punctuation'), ('희망', 'Noun'), ('공부', 'Noun')]\n",
      "\n",
      "명사 추출 :  ['절망', '반대', '희망', '어', '두운', '밤하늘', '별', '희망', '절망', '속', '거지', '만약', '우리', '희망', '함', '그', '누가', '세상', '정희성', '희망', '공부']\n"
     ]
    }
   ],
   "source": [
    "# Okt로 형태소 분석, 품사 태깅, 명사 추출\n",
    "print(\"형태소 분석 : \", okt.morphs(kor_text))\n",
    "print()\n",
    "print(\"품사 태깅 : \", okt.pos(kor_text))\n",
    "print()\n",
    "print(\"명사 추출 : \", okt.nouns(kor_text))"
   ]
  },
  {
   "cell_type": "code",
   "execution_count": 49,
   "id": "e6a1cd03",
   "metadata": {},
   "outputs": [
    {
     "name": "stdout",
     "output_type": "stream",
     "text": [
      "['절망', '의', '반대', '가', '희망', '은', '아니', '다', '.', '어둡', 'ㄴ', '밤하늘', '에', '별', '이', '빛나', '듯', '희망', '은', '절망', '속', '에', '싹트', '는', '거지', '만약', '에', '우리', '가', '희망', '하', 'ㅁ', '이', '적', '다면', '그', '누구', '가', '세상', '을', '비추', '어', '주', 'ㄹ까', '.', '정희성', ',', '희망', '공부']\n",
      "[('절망', 'NNG'), ('의', 'JKG'), ('반대', 'NNG'), ('가', 'JKS'), ('희망', 'NNG'), ('은', 'JX'), ('아니', 'VCN'), ('다', 'EF'), ('.', 'SF'), ('어둡', 'VA'), ('ㄴ', 'ETM'), ('밤하늘', 'NNP'), ('에', 'JKB'), ('별', 'NNG'), ('이', 'JKS'), ('빛나', 'VV'), ('듯', 'EC'), ('희망', 'NNG'), ('은', 'JX'), ('절망', 'NNG'), ('속', 'NNG'), ('에', 'JKB'), ('싹트', 'VV'), ('는', 'ETM'), ('거지', 'NNG'), ('만약', 'NNG'), ('에', 'JKB'), ('우리', 'NP'), ('가', 'JKS'), ('희망', 'NNG'), ('하', 'XSV'), ('ㅁ', 'ETN'), ('이', 'JKS'), ('적', 'VA'), ('다면', 'EC'), ('그', 'MM'), ('누구', 'NP'), ('가', 'JKS'), ('세상', 'NNG'), ('을', 'JKO'), ('비추', 'VV'), ('어', 'EC'), ('주', 'VX'), ('ㄹ까', 'EF'), ('.', 'SF'), ('정희성', 'NNP'), (',', 'SP'), ('희망', 'NNG'), ('공부', 'NNG')]\n",
      "['절망', '반대', '희망', '밤하늘', '별', '희망', '절망', '속', '거지', '만약', '희망', '세상', '정희성', '희망', '공부']\n"
     ]
    }
   ],
   "source": [
    "# Komoran으로 형태소 분석, 품사 태깅, 명사 추출\n",
    "print(komo.morphs(kor_text))\n",
    "\n",
    "print(komo.pos(kor_text))\n",
    "\n",
    "print(komo.nouns(kor_text))"
   ]
  },
  {
   "cell_type": "markdown",
   "id": "adfc6e88",
   "metadata": {},
   "source": [
    "## 4. 정제 (Cleaning)"
   ]
  },
  {
   "cell_type": "markdown",
   "id": "c78da4fa",
   "metadata": {},
   "source": [
    "### 4-1. 불필요한 기호 삭제"
   ]
  },
  {
   "cell_type": "code",
   "execution_count": 15,
   "id": "2cbb5f0f",
   "metadata": {},
   "outputs": [
    {
     "name": "stdout",
     "output_type": "stream",
     "text": [
      "Hello everyone It's good to see you Let's start out NLP class \n"
     ]
    }
   ],
   "source": [
    "import re\n",
    "text = \"Hello, everyone. It's good to see you. Let's start out NLP class~~~~!\"\n",
    "\n",
    "# [영어] 문자, 숫자, ' 가 아닌 기호 삭제\n",
    "clean_text = re.sub(\"[^A-Za-z0-9']+\", \" \", text)\n",
    "print(clean_text)"
   ]
  },
  {
   "cell_type": "code",
   "execution_count": 20,
   "id": "c77bd001",
   "metadata": {},
   "outputs": [
    {
     "name": "stdout",
     "output_type": "stream",
     "text": [
      "절망의 반대가 희망은 아니다 어두운 밤하늘에 별이 빛나듯 희망은 절망 속에 싹트는 거지 만약에 우리가 희망함이 적다면 그 누가 세상을 비추어줄까 정희성 희망 공부\n"
     ]
    }
   ],
   "source": [
    "# 한글만 남기고 삭제\n",
    "clean_kor_text = re.sub(\"[^가-힣]+\", \" \", kor_text)\n",
    "print(clean_kor_text)"
   ]
  },
  {
   "cell_type": "markdown",
   "id": "672e1e36",
   "metadata": {},
   "source": [
    "#### 정규 표현식 연습"
   ]
  },
  {
   "cell_type": "code",
   "execution_count": 50,
   "id": "cbe66600",
   "metadata": {},
   "outputs": [
    {
     "name": "stdout",
     "output_type": "stream",
     "text": [
      "[' ', ' ', ' 자연어처리~~~~ ', '^^']\n"
     ]
    }
   ],
   "source": [
    "import re\n",
    "text1 = \"543 cat camera 자연어처리~~~~ good^^\"\n",
    "\n",
    "#영어만, 숫자만, 한글만, 기호만\n",
    "p = re.compile('[^a-z0-9]+')\n",
    "print(p.findall(text1))"
   ]
  },
  {
   "cell_type": "code",
   "execution_count": 52,
   "id": "f1e492a0",
   "metadata": {},
   "outputs": [
    {
     "name": "stdin",
     "output_type": "stream",
     "text": [
      "이메일 주소를 입력하세요 :  hdsfjjhsdksd3@dasdasfga\n"
     ]
    },
    {
     "name": "stdout",
     "output_type": "stream",
     "text": [
      "잘못된 이메일입니다.\n"
     ]
    }
   ],
   "source": [
    "# 이메일 주소 검증\n",
    "email_pattern = re.compile(r'[a-zA-Z0-9._%+-]+@[a-zA-Z0-9.-]+\\.[a-zA-Z]{2,}')\n",
    "email = input(\"이메일 주소를 입력하세요 : \")\n",
    "if email_pattern.match(email):\n",
    "    print(\"이메일 주소가 맞습니다.\")\n",
    "else:\n",
    "    print(\"잘못된 이메일입니다.\")"
   ]
  },
  {
   "cell_type": "markdown",
   "id": "7d36f37c",
   "metadata": {},
   "source": [
    "### 4-2. 불용어(Stopwords) 제거"
   ]
  },
  {
   "cell_type": "markdown",
   "id": "1e2c0f6a",
   "metadata": {},
   "source": [
    "#### 불용어 사전을 사용하여, 사전에 있는 단어를 삭제"
   ]
  },
  {
   "cell_type": "code",
   "execution_count": 53,
   "id": "52c4f8df",
   "metadata": {},
   "outputs": [
    {
     "name": "stdout",
     "output_type": "stream",
     "text": [
      "198\n",
      "['a', 'about', 'above', 'after', 'again', 'against', 'ain', 'all', 'am', 'an', 'and', 'any', 'are', 'aren', \"aren't\", 'as', 'at', 'be', 'because', 'been', 'before', 'being', 'below', 'between', 'both', 'but', 'by', 'can', 'couldn', \"couldn't\", 'd', 'did', 'didn', \"didn't\", 'do', 'does', 'doesn', \"doesn't\", 'doing', 'don', \"don't\", 'down', 'during', 'each', 'few', 'for', 'from', 'further', 'had', 'hadn', \"hadn't\", 'has', 'hasn', \"hasn't\", 'have', 'haven', \"haven't\", 'having', 'he', \"he'd\", \"he'll\", 'her', 'here', 'hers', 'herself', \"he's\", 'him', 'himself', 'his', 'how', 'i', \"i'd\", 'if', \"i'll\", \"i'm\", 'in', 'into', 'is', 'isn', \"isn't\", 'it', \"it'd\", \"it'll\", \"it's\", 'its', 'itself', \"i've\", 'just', 'll', 'm', 'ma', 'me', 'mightn', \"mightn't\", 'more', 'most', 'mustn', \"mustn't\", 'my', 'myself', 'needn', \"needn't\", 'no', 'nor', 'not', 'now', 'o', 'of', 'off', 'on', 'once', 'only', 'or', 'other', 'our', 'ours', 'ourselves', 'out', 'over', 'own', 're', 's', 'same', 'shan', \"shan't\", 'she', \"she'd\", \"she'll\", \"she's\", 'should', 'shouldn', \"shouldn't\", \"should've\", 'so', 'some', 'such', 't', 'than', 'that', \"that'll\", 'the', 'their', 'theirs', 'them', 'themselves', 'then', 'there', 'these', 'they', \"they'd\", \"they'll\", \"they're\", \"they've\", 'this', 'those', 'through', 'to', 'too', 'under', 'until', 'up', 've', 'very', 'was', 'wasn', \"wasn't\", 'we', \"we'd\", \"we'll\", \"we're\", 'were', 'weren', \"weren't\", \"we've\", 'what', 'when', 'where', 'which', 'while', 'who', 'whom', 'why', 'will', 'with', 'won', \"won't\", 'wouldn', \"wouldn't\", 'y', 'you', \"you'd\", \"you'll\", 'your', \"you're\", 'yours', 'yourself', 'yourselves', \"you've\"]\n"
     ]
    }
   ],
   "source": [
    "# [영어] nltk 불용어 사전 확인\n",
    "from nltk.corpus import stopwords\n",
    "english_stopwords = stopwords.words('english')\n",
    "print(len(english_stopwords))\n",
    "print(english_stopwords)"
   ]
  },
  {
   "cell_type": "code",
   "execution_count": 54,
   "id": "d25c39cb",
   "metadata": {},
   "outputs": [
    {
     "name": "stdout",
     "output_type": "stream",
     "text": [
      "hello everyone it s good to see you let s start out nlp class \n",
      "['hello', 'everyone', 'good', 'see', 'let', 'start', 'nlp', 'class']\n"
     ]
    }
   ],
   "source": [
    "# [영어] 불용어 사전에 있는 단어 제거 : 정규화 -> 정제 -> 토큰화 -> 불용어 제거\n",
    "\n",
    "clean_text = re.sub(r\"[^\\w]+\", \" \", text.lower())\n",
    "print(clean_text)\n",
    "tokens = word_tokenize(clean_text)\n",
    "\n",
    "result = [word for word in tokens if word not in english_stopwords]\n",
    "print(result)"
   ]
  },
  {
   "cell_type": "code",
   "execution_count": 24,
   "id": "679dcf28",
   "metadata": {},
   "outputs": [
    {
     "name": "stdout",
     "output_type": "stream",
     "text": [
      "불용어 :  ['의', '가', '은', '다', 'ㄴ', '에', '이', '듯', '은', '속', '에', '는', '에', '가', '하', '겠', 'ㅁ', '이', '적', '다면', '그', '가', '을', '어', '주', 'ㄹ까', '습니다', '.', ',']\n",
      "['절망', '의', '반대', '가', '희망', '은', '아니다', '.', '\\n', '어', '두운', '밤하늘', '에', '별', '이', '빛나듯', '\\n', '희망', '은', '절망', '속', '에', '싹트는', '거지', '\\n', '만약', '에', '우리', '가', '희망', '함', '이', '적다면', '\\n', '그', '누가', '세상', '을', '비추어줄까', '.', '\\n', '정희성', ',', '희망', '공부']\n",
      "불용어 제거 전 :\n",
      " ['절망', '의', '반대', '가', '희망', '은', '아니다', '.', '\\n', '어', '두운', '밤하늘', '에', '별', '이', '빛나듯', '\\n', '희망', '은', '절망', '속', '에', '싹트는', '거지', '\\n', '만약', '에', '우리', '가', '희망', '함', '이', '적다면', '\\n', '그', '누가', '세상', '을', '비추어줄까', '.', '\\n', '정희성', ',', '희망', '공부']\n",
      "불용어 제거 후 :\n",
      " ['절망', '반대', '희망', '아니다', '\\n', '두운', '밤하늘', '별', '빛나듯', '\\n', '희망', '절망', '싹트는', '거지', '\\n', '만약', '우리', '희망', '함', '적다면', '\\n', '누가', '세상', '비추어줄까', '\\n', '정희성', '희망', '공부']\n"
     ]
    }
   ],
   "source": [
    "# [한글] 사용자 정의 stopwords 를 만들어서 사용\n",
    "temp = '의 가 은 다 ㄴ 에 이 듯 은 속 에 는 에 가 하 겠 ㅁ 이 적 다면 그 가 을 어 주 ㄹ까 습니다 . ,'\n",
    "kor_stopwords = temp.split()\n",
    "print(\"불용어 : \", kor_stopwords)\n",
    "\n",
    "# 토큰화\n",
    "tokens = okt.morphs(kor_text)\n",
    "print(tokens)\n",
    "\n",
    "# 불용어 제거\n",
    "# result = []\n",
    "# for word in tokens:\n",
    "#     if word not in kor_stopwords:\n",
    "#         result.append(word)\n",
    "result = [word for word in tokens if word not in kor_stopwords]\n",
    "\n",
    "print('불용어 제거 전 :\\n',tokens) \n",
    "print('불용어 제거 후 :\\n',result)"
   ]
  },
  {
   "cell_type": "markdown",
   "id": "047a813c",
   "metadata": {},
   "source": [
    "#### 품사 태깅을 하여 불용어에 해당하는 품사의 단어를 삭제 \n",
    "* 한국어 형태소 해석기의 품사태그집합 정보\n",
    "https://docs.google.com/spreadsheets/d/1OGAjUvalBuX-oZvZ_-9tEfYD2gQe7hTGsgUpiiBSXI8/edit?gid=0#gid=0"
   ]
  },
  {
   "cell_type": "code",
   "execution_count": 60,
   "id": "ac006a00",
   "metadata": {},
   "outputs": [
    {
     "name": "stdout",
     "output_type": "stream",
     "text": [
      "[('절망', 'Noun'), ('의', 'Josa'), ('반대', 'Noun'), ('가', 'Josa'), ('희망', 'Noun'), ('은', 'Josa'), ('아니다', 'Adjective'), ('.', 'Punctuation'), ('\\n', 'Foreign'), ('어', 'Noun'), ('두운', 'Noun'), ('밤하늘', 'Noun'), ('에', 'Josa'), ('별', 'Noun'), ('이', 'Josa'), ('빛나듯', 'Verb'), ('\\n', 'Foreign'), ('희망', 'Noun'), ('은', 'Josa'), ('절망', 'Noun'), ('속', 'Noun'), ('에', 'Josa'), ('싹트는', 'Verb'), ('거지', 'Noun'), ('\\n', 'Foreign'), ('만약', 'Noun'), ('에', 'Josa'), ('우리', 'Noun'), ('가', 'Josa'), ('희망', 'Noun'), ('함', 'Noun'), ('이', 'Josa'), ('적다면', 'Verb'), ('\\n', 'Foreign'), ('그', 'Noun'), ('누가', 'Noun'), ('세상', 'Noun'), ('을', 'Josa'), ('비추어줄까', 'Verb'), ('.', 'Punctuation'), ('\\n', 'Foreign'), ('정희성', 'Noun'), (',', 'Punctuation'), ('희망', 'Noun'), ('공부', 'Noun')]\n"
     ]
    }
   ],
   "source": [
    "# 품사 태깅 결과 검토 -> 원하는 품사 추출\n",
    "pos_tag_tokens = okt.pos(kor_text)\n",
    "print(pos_tag_tokens)"
   ]
  },
  {
   "cell_type": "code",
   "execution_count": 61,
   "id": "7842deb6",
   "metadata": {},
   "outputs": [
    {
     "name": "stdout",
     "output_type": "stream",
     "text": [
      "['절망', '반대', '희망', '아니다', '어', '두운', '밤하늘', '별', '희망', '절망', '속', '거지', '만약', '우리', '희망', '함', '그', '누가', '세상', '정희성', '희망', '공부']\n"
     ]
    }
   ],
   "source": [
    "# 원하는 품사의 단어들만 추출\n",
    "my_tag_set = ['Noun', 'Vervb', 'Adjective']\n",
    "my_words = []\n",
    "for word, tag in pos_tag_tokens:\n",
    "    if tag in my_tag_set:\n",
    "        my_words.append(word)\n",
    "\n",
    "print(my_words)"
   ]
  },
  {
   "cell_type": "markdown",
   "id": "6f1ada2b",
   "metadata": {},
   "source": [
    "## 5. 정규화 (Normalization)\n",
    "### 5-1. 어간 추출 (Stemming)"
   ]
  },
  {
   "cell_type": "code",
   "execution_count": null,
   "id": "7c59e4b2",
   "metadata": {},
   "outputs": [],
   "source": [
    "from nltk.stem import PorterStemmer\n",
    "p_stemmer = PorterStemmer()\n",
    "print(stemmer.stem('cooking'), stemmer.stem('cookery'), stemmer.stem('cookbooks'))"
   ]
  },
  {
   "cell_type": "code",
   "execution_count": null,
   "id": "a2b454d6",
   "metadata": {},
   "outputs": [],
   "source": [
    "from nltk.stem import LancasterStemmer\n",
    "l_stemmer = LancasterStemmer()\n",
    "print(stemmer.stem('cooking'), stemmer.stem('cookery'), stemmer.stem('cookbooks'))"
   ]
  },
  {
   "cell_type": "code",
   "execution_count": null,
   "id": "04957c8d",
   "metadata": {},
   "outputs": [],
   "source": [
    "words = ['policy', 'doing', 'organization', 'have', 'going', 'love', 'lives', 'fly', 'dies', 'watched', 'has', 'starting']\n",
    "p_result = \n",
    "l_result = \n",
    "print('어간 추출 전 :', words)\n",
    "print('포터 스테머의 어간 추출 후:', p_result)\n",
    "print('랭커스터 스테머의 어간 추출 후:', l_result)"
   ]
  },
  {
   "cell_type": "markdown",
   "id": "528e971d",
   "metadata": {},
   "source": [
    "### 5-2 표제어 추출 (Lemmatization)"
   ]
  },
  {
   "cell_type": "code",
   "execution_count": null,
   "id": "b71f7b06",
   "metadata": {},
   "outputs": [],
   "source": [
    "from nltk.stem import WordNetLemmatizer\n",
    "lemmatizer = WordNetLemmatizer()\n",
    "print(lemmatizer.lemmatize('cooking'))\n",
    "print(lemmatizer.lemmatize('cooking', pos='v')) #품사를 지정\n",
    "print(lemmatizer.lemmatize('cookery'))\n",
    "print(lemmatizer.lemmatize('cookbooks'))"
   ]
  },
  {
   "cell_type": "code",
   "execution_count": null,
   "id": "39469def",
   "metadata": {},
   "outputs": [],
   "source": [
    "#comparison of lemmatizing and stemming\n",
    "from nltk.stem import PorterStemmer\n",
    "stemmer = PorterStemmer()\n",
    "print('stemming result:', stemmer.stem('believes'))\n",
    "print('lemmatizing result:', lemmatizer.lemmatize('believes'))\n",
    "print('lemmatizing result:', lemmatizer.lemmatize('believes', pos='v'))"
   ]
  },
  {
   "cell_type": "code",
   "execution_count": null,
   "id": "e26d987c",
   "metadata": {
    "scrolled": true
   },
   "outputs": [],
   "source": [
    "# Okt로 형태소 분석 시 표제어 추출\n",
    "from konlpy.tag import Okt\n",
    "okt = Okt()\n",
    "print(okt.morphs(kor_text))\n",
    "print()\n",
    "print(okt.morphs(kor_text, stem = True))"
   ]
  },
  {
   "cell_type": "code",
   "execution_count": 66,
   "id": "06e781d0-5eb3-4ec6-87e8-d897155211c8",
   "metadata": {},
   "outputs": [
    {
     "data": {
      "image/png": "[encoded data removed]",
      "text/plain": [
       "<Figure size 1000x500 with 1 Axes>"
      ]
     },
     "metadata": {},
     "output_type": "display_data"
    }
   ],
   "source": []
  }
 ],
 "metadata": {
  "kernelspec": {
   "display_name": "DeepNLPEnv",
   "language": "python",
   "name": "deepnlpenv"
  },
  "language_info": {
   "codemirror_mode": {
    "name": "ipython",
    "version": 3
   },
   "file_extension": ".py",
   "mimetype": "text/x-python",
   "name": "python",
   "nbconvert_exporter": "python",
   "pygments_lexer": "ipython3",
   "version": "3.9.21"
  }
 },
 "nbformat": 4,
 "nbformat_minor": 5
}
